{
 "cells": [
  {
   "cell_type": "code",
   "execution_count": 61,
   "metadata": {},
   "outputs": [],
   "source": [
    "import pandas as pd\n",
    "import numpy as np\n",
    "from os.path import join, isfile\n",
    "import pickle\n",
    "import scipy.linalg\n",
    "import matplotlib.pyplot as plt\n",
    "from mpl_toolkits.mplot3d import Axes3D"
   ]
  },
  {
   "cell_type": "code",
   "execution_count": 62,
   "metadata": {},
   "outputs": [],
   "source": [
    "file = 'measurements.csv'\n",
    "measurements = pd.read_csv(file)"
   ]
  },
  {
   "cell_type": "code",
   "execution_count": 63,
   "metadata": {},
   "outputs": [
    {
     "data": {
      "text/html": [
       "<div>\n",
       "<style scoped>\n",
       "    .dataframe tbody tr th:only-of-type {\n",
       "        vertical-align: middle;\n",
       "    }\n",
       "\n",
       "    .dataframe tbody tr th {\n",
       "        vertical-align: top;\n",
       "    }\n",
       "\n",
       "    .dataframe thead th {\n",
       "        text-align: right;\n",
       "    }\n",
       "</style>\n",
       "<table border=\"1\" class=\"dataframe\">\n",
       "  <thead>\n",
       "    <tr style=\"text-align: right;\">\n",
       "      <th></th>\n",
       "      <th>ramp_dist</th>\n",
       "      <th>drive</th>\n",
       "      <th>voltage</th>\n",
       "      <th>jump_dist</th>\n",
       "    </tr>\n",
       "  </thead>\n",
       "  <tbody>\n",
       "    <tr>\n",
       "      <th>0</th>\n",
       "      <td>10</td>\n",
       "      <td>43</td>\n",
       "      <td>7.9</td>\n",
       "      <td>40</td>\n",
       "    </tr>\n",
       "    <tr>\n",
       "      <th>1</th>\n",
       "      <td>11</td>\n",
       "      <td>55</td>\n",
       "      <td>7.9</td>\n",
       "      <td>60</td>\n",
       "    </tr>\n",
       "    <tr>\n",
       "      <th>2</th>\n",
       "      <td>6</td>\n",
       "      <td>73</td>\n",
       "      <td>7.9</td>\n",
       "      <td>52</td>\n",
       "    </tr>\n",
       "    <tr>\n",
       "      <th>3</th>\n",
       "      <td>6</td>\n",
       "      <td>79</td>\n",
       "      <td>7.9</td>\n",
       "      <td>53</td>\n",
       "    </tr>\n",
       "    <tr>\n",
       "      <th>4</th>\n",
       "      <td>6</td>\n",
       "      <td>100</td>\n",
       "      <td>7.9</td>\n",
       "      <td>57</td>\n",
       "    </tr>\n",
       "  </tbody>\n",
       "</table>\n",
       "</div>"
      ],
      "text/plain": [
       "   ramp_dist  drive  voltage  jump_dist\n",
       "0         10     43      7.9         40\n",
       "1         11     55      7.9         60\n",
       "2          6     73      7.9         52\n",
       "3          6     79      7.9         53\n",
       "4          6    100      7.9         57"
      ]
     },
     "execution_count": 63,
     "metadata": {},
     "output_type": "execute_result"
    }
   ],
   "source": [
    "measurements.head()"
   ]
  },
  {
   "cell_type": "code",
   "execution_count": 66,
   "metadata": {
    "scrolled": false
   },
   "outputs": [
    {
     "ename": "ValueError",
     "evalue": "shapes (400,9) and (6,) not aligned: 9 (dim 1) != 6 (dim 0)",
     "output_type": "error",
     "traceback": [
      "\u001b[0;31m---------------------------------------------------------------------------\u001b[0m",
      "\u001b[0;31mValueError\u001b[0m                                Traceback (most recent call last)",
      "\u001b[0;32m<ipython-input-66-f0508fa147e4>\u001b[0m in \u001b[0;36m<module>\u001b[0;34m()\u001b[0m\n\u001b[1;32m     34\u001b[0m     \u001b[0;31m# evaluate it on a grid\u001b[0m\u001b[0;34m\u001b[0m\u001b[0;34m\u001b[0m\u001b[0m\n\u001b[1;32m     35\u001b[0m     Z = np.dot(np.c_[np.ones(XX.shape),\n\u001b[0;32m---> 36\u001b[0;31m                      XX, YY, XX*YY, XX**2, YY**2, (XX**2) * (YY**2), XX**3, YY**3], C).reshape(X.shape)\n\u001b[0m\u001b[1;32m     37\u001b[0m \u001b[0;34m\u001b[0m\u001b[0m\n\u001b[1;32m     38\u001b[0m \u001b[0;31m# plot points and fitted surface\u001b[0m\u001b[0;34m\u001b[0m\u001b[0;34m\u001b[0m\u001b[0m\n",
      "\u001b[0;31mValueError\u001b[0m: shapes (400,9) and (6,) not aligned: 9 (dim 1) != 6 (dim 0)"
     ]
    }
   ],
   "source": [
    "%matplotlib notebook\n",
    "data = np.c_[measurements.ramp_dist, measurements.jump_dist, measurements.drive] \n",
    "\n",
    "mn = np.min(data, axis=0)\n",
    "mx = np.max(data, axis=0)\n",
    "X,Y = np.meshgrid(np.linspace(mn[0], mx[0], 20), np.linspace(mn[1], mx[1], 20))\n",
    "XX = X.flatten()\n",
    "YY = Y.flatten()\n",
    "\n",
    "order = 3    # 1: linear, 2: quadratic\n",
    "if order == 1:\n",
    "    # best-fit linear plane\n",
    "    A = np.c_[data[:,0], data[:,1], np.ones(data.shape[0])]\n",
    "    C,_,_,_ = scipy.linalg.lstsq(A, data[:,2])    # coefficients\n",
    "    \n",
    "    # evaluate it on grid\n",
    "    Z = C[0]*X + C[1]*Y + C[2]\n",
    "    \n",
    "    # or expressed using matrix/vector product\n",
    "    #Z = np.dot(np.c_[XX, YY, np.ones(XX.shape)], C).reshape(X.shape)\n",
    "\n",
    "elif order == 2:\n",
    "    # best-fit quadratic curve\n",
    "    A = np.c_[np.ones(data.shape[0]), data[:,:2], np.prod(data[:,:2], axis=1), data[:,:2]**2]\n",
    "    C,_,_,_ = scipy.linalg.lstsq(A, data[:,2])\n",
    "    \n",
    "    # evaluate it on a grid\n",
    "    Z = np.dot(np.c_[np.ones(XX.shape), XX, YY, XX*YY, XX**2, YY**2], C).reshape(X.shape)\n",
    "elif order == 3:\n",
    "    # best-fit quadratic curve\n",
    "    A = np.c_[np.ones(data.shape[0]), data[:,:2], np.prod(data[:,:2], axis=1), data[:,:2]**3]\n",
    "    C,_,_,_ = scipy.linalg.lstsq(A, data[:,2])\n",
    "    \n",
    "    # evaluate it on a grid\n",
    "    Z = np.dot(np.c_[np.ones(XX.shape),\n",
    "                     XX, YY, XX*YY, XX**2, YY**2, (XX**2) * (YY**2), XX**3, YY**3], C).reshape(X.shape)\n",
    "    \n",
    "# plot points and fitted surface\n",
    "fig = plt.figure(figsize=(10, 8))\n",
    "ax = fig.gca(projection='3d')\n",
    "ax.plot_surface(X, Y, Z, rstride=1, cstride=1, alpha=0.2)\n",
    "ax.scatter(data[:,0], data[:,1], data[:,2], c='r', s=50)\n",
    "plt.xlabel('Ramp Distance')\n",
    "plt.ylabel('Jump Distance')\n",
    "ax.set_zlabel('Drive Speed')\n",
    "ax.axis('equal')\n",
    "ax.axis('tight')\n",
    "ax.set_zlim(30, 110)\n",
    "plt.show()"
   ]
  },
  {
   "cell_type": "code",
   "execution_count": 45,
   "metadata": {},
   "outputs": [
    {
     "name": "stdout",
     "output_type": "stream",
     "text": [
      "[-7.37226661e+01  8.14133625e+00  3.35467997e+00 -3.97289114e-01\n",
      "  3.81501847e-01  1.37040507e-02]\n"
     ]
    }
   ],
   "source": [
    "print(C)"
   ]
  },
  {
   "cell_type": "code",
   "execution_count": 57,
   "metadata": {},
   "outputs": [
    {
     "name": "stdout",
     "output_type": "stream",
     "text": [
      "[58.48223058]\n"
     ]
    }
   ],
   "source": [
    "def temp(ramp_dist, jump_dist):\n",
    "    return np.dot(np.c_[1, ramp_dist, jump_dist, ramp_dist*jump_dist, ramp_dist**2, jump_dist**2], C)\n",
    "print(temp(9, 54))"
   ]
  },
  {
   "cell_type": "code",
   "execution_count": null,
   "metadata": {},
   "outputs": [],
   "source": []
  }
 ],
 "metadata": {
  "kernelspec": {
   "display_name": "Python 2",
   "language": "python",
   "name": "python2"
  },
  "language_info": {
   "codemirror_mode": {
    "name": "ipython",
    "version": 3
   },
   "file_extension": ".py",
   "mimetype": "text/x-python",
   "name": "python",
   "nbconvert_exporter": "python",
   "pygments_lexer": "ipython3",
   "version": "3.7.0"
  }
 },
 "nbformat": 4,
 "nbformat_minor": 2
}
